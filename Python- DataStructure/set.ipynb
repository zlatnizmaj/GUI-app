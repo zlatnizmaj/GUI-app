{
 "cells": [
  {
   "cell_type": "markdown",
   "metadata": {},
   "source": [
    "# https://towardsdatascience.com/12-examples-to-master-python-sets-71802ea56de3"
   ]
  },
  {
   "cell_type": "markdown",
   "metadata": {},
   "source": [
    "A set is an unordered collection of distinct hashable objects\n",
    "\n",
    "Unordered collection: It contains zero or more elements. There is no order associated with the elements of a set. Thus, it does not support indexing or slicing like we do with lists.\n",
    "\n",
    "Distinct hashable objects: A set contains unique elements. The hashable means immutable. Although sets are mutable, the elements of sets must be immutable."
   ]
  },
  {
   "cell_type": "markdown",
   "metadata": {},
   "source": [
    "# 1. Creating a set"
   ]
  },
  {
   "cell_type": "code",
   "execution_count": 2,
   "metadata": {},
   "outputs": [
    {
     "name": "stdout",
     "output_type": "stream",
     "text": [
      "<class 'set'>\n"
     ]
    }
   ],
   "source": [
    "# putting objects separated by a comma in curly braces\n",
    "a = {1, 4, 'foo'}\n",
    "print(type(a))"
   ]
  },
  {
   "cell_type": "code",
   "execution_count": 3,
   "metadata": {},
   "outputs": [
    {
     "name": "stdout",
     "output_type": "stream",
     "text": [
      "{1, 4, 'foo'}\n"
     ]
    }
   ],
   "source": [
    "# sets do not contain repeated elements\n",
    "b = {1, 4, 'foo', 4, 'foo'}\n",
    "print(b)"
   ]
  },
  {
   "cell_type": "markdown",
   "metadata": {},
   "source": [
    "# 2. Creating an empty set"
   ]
  },
  {
   "cell_type": "markdown",
   "metadata": {},
   "source": [
    "The set notation is similar to the dictionary notation in Python\n",
    "\n",
    "Use the set function to create an empty set"
   ]
  },
  {
   "cell_type": "code",
   "execution_count": 5,
   "metadata": {},
   "outputs": [
    {
     "name": "stdout",
     "output_type": "stream",
     "text": [
      "<class 'dict'>\n",
      "<class 'set'>\n",
      "<class 'set'>\n"
     ]
    }
   ],
   "source": [
    "a = {}\n",
    "print(type(a))\n",
    "\n",
    "b = set()\n",
    "print(type(b))\n",
    "\n",
    "c = set({})\n",
    "print(type(c))"
   ]
  },
  {
   "cell_type": "markdown",
   "metadata": {},
   "source": [
    "# 3. Creating sets with iterables"
   ]
  },
  {
   "cell_type": "markdown",
   "metadata": {},
   "source": [
    "Create sets using other iterables (e.g. list, tuple, string)\n",
    "\n",
    "The iterable is passed to the set function"
   ]
  },
  {
   "cell_type": "code",
   "execution_count": 6,
   "metadata": {},
   "outputs": [
    {
     "name": "stdout",
     "output_type": "stream",
     "text": [
      "{1, 2, 3, 4}\n"
     ]
    }
   ],
   "source": [
    "lst = [1, 2, 3, 3, 4]\n",
    "\n",
    "a = set(lst)\n",
    "print(a)\n",
    "# The set function returns a set of unique elements"
   ]
  },
  {
   "cell_type": "code",
   "execution_count": 7,
   "metadata": {},
   "outputs": [
    {
     "ename": "TypeError",
     "evalue": "unhashable type: 'list'",
     "output_type": "error",
     "traceback": [
      "\u001b[0;31m---------------------------------------------------------------------------\u001b[0m",
      "\u001b[0;31mTypeError\u001b[0m                                 Traceback (most recent call last)",
      "\u001b[0;32m<ipython-input-7-ae8335756d52>\u001b[0m in \u001b[0;36m<module>\u001b[0;34m\u001b[0m\n\u001b[1;32m      2\u001b[0m \u001b[0;31m# does not have unhashable (i.e. mutable) objects\u001b[0m\u001b[0;34m\u001b[0m\u001b[0;34m\u001b[0m\u001b[0;34m\u001b[0m\u001b[0m\n\u001b[1;32m      3\u001b[0m \u001b[0mlst2\u001b[0m \u001b[0;34m=\u001b[0m \u001b[0;34m[\u001b[0m\u001b[0;36m1\u001b[0m\u001b[0;34m,\u001b[0m \u001b[0;36m2\u001b[0m\u001b[0;34m,\u001b[0m \u001b[0;36m3\u001b[0m\u001b[0;34m,\u001b[0m \u001b[0;34m[\u001b[0m\u001b[0;36m1\u001b[0m\u001b[0;34m,\u001b[0m \u001b[0;36m4\u001b[0m\u001b[0;34m]\u001b[0m\u001b[0;34m]\u001b[0m\u001b[0;34m\u001b[0m\u001b[0;34m\u001b[0m\u001b[0m\n\u001b[0;32m----> 4\u001b[0;31m \u001b[0mb\u001b[0m \u001b[0;34m=\u001b[0m \u001b[0mset\u001b[0m\u001b[0;34m(\u001b[0m\u001b[0mlst2\u001b[0m\u001b[0;34m)\u001b[0m\u001b[0;34m\u001b[0m\u001b[0;34m\u001b[0m\u001b[0m\n\u001b[0m\u001b[1;32m      5\u001b[0m \u001b[0mprint\u001b[0m\u001b[0;34m(\u001b[0m\u001b[0mb\u001b[0m\u001b[0;34m)\u001b[0m\u001b[0;34m\u001b[0m\u001b[0;34m\u001b[0m\u001b[0m\n",
      "\u001b[0;31mTypeError\u001b[0m: unhashable type: 'list'"
     ]
    }
   ],
   "source": [
    "# make sure the iterable passed to the set function \n",
    "# does not have unhashable (i.e. mutable) objects\n",
    "lst2 = [1, 2, 3, [1, 4]]\n",
    "b = set(lst2)\n",
    "print(b)\n"
   ]
  },
  {
   "cell_type": "markdown",
   "metadata": {},
   "source": [
    "# 4. Creating sets with strings"
   ]
  },
  {
   "cell_type": "markdown",
   "metadata": {},
   "source": [
    "We iterate over a string based on characters\n",
    "\n",
    "The set function will return a set of unique characters in the strings\n",
    "\n",
    "The characters will not be in the same order as they are in the string"
   ]
  },
  {
   "cell_type": "code",
   "execution_count": 8,
   "metadata": {},
   "outputs": [
    {
     "name": "stdout",
     "output_type": "stream",
     "text": [
      "{' ', \"'\", 'l', 'e', 'c', 's', 'r', 'a', 't'}\n"
     ]
    }
   ],
   "source": [
    "text = \"let's create a set\"\n",
    "\n",
    "t = set(text)\n",
    "\n",
    "print(t)"
   ]
  },
  {
   "cell_type": "markdown",
   "metadata": {},
   "source": [
    "# 5. Adding new items in a set"
   ]
  },
  {
   "cell_type": "code",
   "execution_count": 1,
   "metadata": {},
   "outputs": [
    {
     "name": "stdout",
     "output_type": "stream",
     "text": [
      "{'foo', 3}\n"
     ]
    }
   ],
   "source": [
    "# use add method to add new immutable elements\n",
    "a = set()\n",
    "a.add(3)\n",
    "a.add('foo')\n",
    "\n",
    "print(a)"
   ]
  },
  {
   "cell_type": "markdown",
   "metadata": {},
   "source": [
    "# 6. Removing items from a set"
   ]
  },
  {
   "cell_type": "code",
   "execution_count": 2,
   "metadata": {},
   "outputs": [
    {
     "name": "stdout",
     "output_type": "stream",
     "text": [
      "{3}\n"
     ]
    }
   ],
   "source": [
    "# Both “remove” and “discard” methods remove an item from a set\n",
    "r = {1, 2, 3}\n",
    "r.remove(1)\n",
    "r.discard(2)\n",
    "\n",
    "print(r)"
   ]
  },
  {
   "cell_type": "code",
   "execution_count": 3,
   "metadata": {},
   "outputs": [
    {
     "ename": "KeyError",
     "evalue": "5",
     "output_type": "error",
     "traceback": [
      "\u001b[0;31m---------------------------------------------------------------------------\u001b[0m",
      "\u001b[0;31mKeyError\u001b[0m                                  Traceback (most recent call last)",
      "\u001b[0;32m<ipython-input-3-8d53d59c0128>\u001b[0m in \u001b[0;36m<module>\u001b[0;34m\u001b[0m\n\u001b[1;32m      2\u001b[0m \u001b[0;31m# remove\u001b[0m\u001b[0;34m\u001b[0m\u001b[0;34m\u001b[0m\u001b[0;34m\u001b[0m\u001b[0m\n\u001b[1;32m      3\u001b[0m \u001b[0mre\u001b[0m \u001b[0;34m=\u001b[0m \u001b[0;34m{\u001b[0m\u001b[0;36m1\u001b[0m\u001b[0;34m,\u001b[0m \u001b[0;36m2\u001b[0m\u001b[0;34m,\u001b[0m \u001b[0;36m3\u001b[0m\u001b[0;34m}\u001b[0m\u001b[0;34m\u001b[0m\u001b[0;34m\u001b[0m\u001b[0m\n\u001b[0;32m----> 4\u001b[0;31m \u001b[0mre\u001b[0m\u001b[0;34m.\u001b[0m\u001b[0mremove\u001b[0m\u001b[0;34m(\u001b[0m\u001b[0;36m5\u001b[0m\u001b[0;34m)\u001b[0m\u001b[0;34m\u001b[0m\u001b[0;34m\u001b[0m\u001b[0m\n\u001b[0m",
      "\u001b[0;31mKeyError\u001b[0m: 5"
     ]
    }
   ],
   "source": [
    "# Remove will raise an error but nothing happens with discard\n",
    "# remove\n",
    "re = {1, 2, 3}\n",
    "re.remove(5)"
   ]
  },
  {
   "cell_type": "code",
   "execution_count": 4,
   "metadata": {},
   "outputs": [
    {
     "name": "stdout",
     "output_type": "stream",
     "text": [
      "{1, 2, 3}\n"
     ]
    }
   ],
   "source": [
    "# discard\n",
    "dis = {1, 2, 3}\n",
    "dis.discard(5)\n",
    "print(dis)"
   ]
  },
  {
   "cell_type": "code",
   "execution_count": 5,
   "metadata": {},
   "outputs": [
    {
     "name": "stdout",
     "output_type": "stream",
     "text": [
      "1\n",
      "{2, 3, 5, 8, 9}\n"
     ]
    }
   ],
   "source": [
    "# pop method returns the item that has been removed\n",
    "# pop” method which removes an item from a set randomly\n",
    "po = {1,2,3,5,9,8}\n",
    "print(po.pop())\n",
    "print(po)"
   ]
  },
  {
   "cell_type": "code",
   "execution_count": 8,
   "metadata": {},
   "outputs": [
    {
     "name": "stdout",
     "output_type": "stream",
     "text": [
      "set()\n"
     ]
    }
   ],
   "source": [
    "# “clear” method removes all items --> empty set\n",
    "cle = {1,2,3,5,9,8}\n",
    "cle.clear()\n",
    "\n",
    "print(cle)"
   ]
  },
  {
   "cell_type": "markdown",
   "metadata": {},
   "source": [
    "# 7. Updating a set"
   ]
  },
  {
   "cell_type": "code",
   "execution_count": 9,
   "metadata": {},
   "outputs": [
    {
     "name": "stdout",
     "output_type": "stream",
     "text": [
      "{1, 2, 3, 5, 6, 7}\n"
     ]
    }
   ],
   "source": [
    "# Set a is updated with the items \n",
    "# in set b that are not already in set a\n",
    "a = {1, 2, 3}\n",
    "b = {1, 6, 7, 5}\n",
    "a.update(b)\n",
    "\n",
    "print(a)"
   ]
  },
  {
   "cell_type": "code",
   "execution_count": 10,
   "metadata": {},
   "outputs": [
    {
     "name": "stdout",
     "output_type": "stream",
     "text": [
      "{1, 2, 3, 's', 'n', 8, 9, 'g', 'r', 'i', 't'}\n"
     ]
    }
   ],
   "source": [
    "# The update methods accepts multiple arguments\n",
    "a = {1,2,3}\n",
    "lst = [8, 9]\n",
    "text = \"string\"\n",
    "\n",
    "a.update(lst, text)\n",
    "print(a)"
   ]
  },
  {
   "cell_type": "code",
   "execution_count": 11,
   "metadata": {},
   "outputs": [
    {
     "name": "stdout",
     "output_type": "stream",
     "text": [
      "{1, 2, 3, 5, 6}\n"
     ]
    }
   ],
   "source": [
    "a = {1, 2, 3}\n",
    "b = {5, 6}\n",
    "a |= b\n",
    "\n",
    "print(a)"
   ]
  },
  {
   "attachments": {
    "comparisionSets.png": {
     "image/png": "[encoded data removed]"
    }
   },
   "cell_type": "markdown",
   "metadata": {},
   "source": [
    "![comparisionSets.png](attachment:comparisionSets.png)"
   ]
  },
  {
   "cell_type": "markdown",
   "metadata": {},
   "source": [
    "# 8. Comparison between sets"
   ]
  },
  {
   "cell_type": "code",
   "execution_count": 4,
   "metadata": {},
   "outputs": [
    {
     "name": "stdout",
     "output_type": "stream",
     "text": [
      "{2, 3}\n",
      "{4, 5}\n",
      "{1}\n",
      "{1, 2, 3, 4, 5}\n",
      "{2, 3, 4, 5}\n"
     ]
    }
   ],
   "source": [
    "# do not change the original lists\n",
    "A = {1, 2, 3}\n",
    "B = {1, 4, 5}\n",
    "\n",
    "print(A.difference(B))\n",
    "\n",
    "print(B.difference(A))\n",
    "\n",
    "print(A.intersection(B))\n",
    "\n",
    "print(A.union(B))\n",
    "\n",
    "# “symmetric_difference”, combines A.difference(B) and B.difference(A). \n",
    "# Thus, it will return the items that are not in both sets\n",
    "\n",
    "print(A.symmetric_difference(B))"
   ]
  },
  {
   "cell_type": "markdown",
   "metadata": {},
   "source": [
    "# 9. Updating based on comparison"
   ]
  },
  {
   "cell_type": "code",
   "execution_count": 5,
   "metadata": {},
   "outputs": [],
   "source": [
    "# update the sets based on these comparisons and operations"
   ]
  },
  {
   "cell_type": "code",
   "execution_count": 6,
   "metadata": {},
   "outputs": [
    {
     "name": "stdout",
     "output_type": "stream",
     "text": [
      "{1}\n",
      "{1, 4, 5}\n"
     ]
    }
   ],
   "source": [
    "C = {1, 2, 3}\n",
    "D = {1, 4, 5}\n",
    "\n",
    "C.intersection_update(B)\n",
    "# C &= B\n",
    "\n",
    "print(C)\n",
    "print(D)\n",
    "# intersection_update method does not return a set \n",
    "# but updates set C in place"
   ]
  },
  {
   "cell_type": "code",
   "execution_count": 7,
   "metadata": {},
   "outputs": [
    {
     "name": "stdout",
     "output_type": "stream",
     "text": [
      "{4, 5}\n"
     ]
    }
   ],
   "source": [
    "C = {1, 2, 3}\n",
    "D = {1, 4, 5}\n",
    "\n",
    "D.difference_update(C)\n",
    "# D -= C\n",
    "print(D)"
   ]
  },
  {
   "cell_type": "code",
   "execution_count": 8,
   "metadata": {},
   "outputs": [
    {
     "name": "stdout",
     "output_type": "stream",
     "text": [
      "{2, 3, 4, 5}\n"
     ]
    }
   ],
   "source": [
    "C = {1, 2, 3}\n",
    "D = {1, 4, 5}\n",
    "C.symmetric_difference_update(D)\n",
    "# C ^= D\n",
    "print(C)"
   ]
  },
  {
   "cell_type": "markdown",
   "metadata": {},
   "source": [
    "# 10. Frozenset"
   ]
  },
  {
   "cell_type": "markdown",
   "metadata": {},
   "source": [
    "The frozensets are just like sets with only one difference. \n",
    "\n",
    "They are immutable. \n",
    "\n",
    "We cannot do any operation on a frozenset that changes it such add, remove, update and so on."
   ]
  },
  {
   "cell_type": "code",
   "execution_count": 9,
   "metadata": {},
   "outputs": [
    {
     "ename": "AttributeError",
     "evalue": "'frozenset' object has no attribute 'add'",
     "output_type": "error",
     "traceback": [
      "\u001b[0;31m---------------------------------------------------------------------------\u001b[0m",
      "\u001b[0;31mAttributeError\u001b[0m                            Traceback (most recent call last)",
      "\u001b[0;32m<ipython-input-9-dda1d23bcd56>\u001b[0m in \u001b[0;36m<module>\u001b[0;34m\u001b[0m\n\u001b[1;32m      1\u001b[0m \u001b[0mA\u001b[0m \u001b[0;34m=\u001b[0m \u001b[0;34m{\u001b[0m\u001b[0;36m1\u001b[0m\u001b[0;34m,\u001b[0m \u001b[0;36m2\u001b[0m\u001b[0;34m,\u001b[0m \u001b[0;36m3\u001b[0m\u001b[0;34m}\u001b[0m\u001b[0;34m\u001b[0m\u001b[0;34m\u001b[0m\u001b[0m\n\u001b[1;32m      2\u001b[0m \u001b[0mB\u001b[0m \u001b[0;34m=\u001b[0m \u001b[0mfrozenset\u001b[0m\u001b[0;34m(\u001b[0m\u001b[0mA\u001b[0m\u001b[0;34m)\u001b[0m\u001b[0;34m\u001b[0m\u001b[0;34m\u001b[0m\u001b[0m\n\u001b[0;32m----> 3\u001b[0;31m \u001b[0mB\u001b[0m\u001b[0;34m.\u001b[0m\u001b[0madd\u001b[0m\u001b[0;34m(\u001b[0m\u001b[0;36m5\u001b[0m\u001b[0;34m)\u001b[0m\u001b[0;34m\u001b[0m\u001b[0;34m\u001b[0m\u001b[0m\n\u001b[0m",
      "\u001b[0;31mAttributeError\u001b[0m: 'frozenset' object has no attribute 'add'"
     ]
    }
   ],
   "source": [
    "A = {1, 2, 3}\n",
    "B = frozenset(A)\n",
    "B.add(5)"
   ]
  },
  {
   "cell_type": "markdown",
   "metadata": {},
   "source": [
    "# 11. Superset and subset"
   ]
  },
  {
   "cell_type": "markdown",
   "metadata": {},
   "source": [
    "A is a superset of B if all elements in B are also in A\n",
    "\n",
    "B is a subset of A if all elements in B are also in A"
   ]
  },
  {
   "cell_type": "code",
   "execution_count": 11,
   "metadata": {},
   "outputs": [
    {
     "name": "stdout",
     "output_type": "stream",
     "text": [
      "True\n",
      "True\n",
      "False\n"
     ]
    }
   ],
   "source": [
    "A = {1, 2, 3, 4}\n",
    "B = {1, 2}\n",
    "C = {1, 2, 8}\n",
    "\n",
    "print(A.issuperset(B))\n",
    "\n",
    "print(B.issubset(A))\n",
    "\n",
    "print(A.issuperset(C))"
   ]
  },
  {
   "cell_type": "markdown",
   "metadata": {},
   "source": [
    "# 12. Disjoint sets"
   ]
  },
  {
   "cell_type": "code",
   "execution_count": 14,
   "metadata": {},
   "outputs": [
    {
     "name": "stdout",
     "output_type": "stream",
     "text": [
      "False\n",
      "True\n"
     ]
    }
   ],
   "source": [
    "# Two sets are said to be disjoint \n",
    "# if they do not have any common elements\n",
    "\n",
    "A = {1, 2, 3, 4}\n",
    "B = {1, 2}\n",
    "C = {10, 11}\n",
    "\n",
    "print(A.isdisjoint(B))\n",
    "\n",
    "print(A.isdisjoint(C))\n"
   ]
  },
  {
   "cell_type": "markdown",
   "metadata": {},
   "source": [
    "Since sets are mutable, we need to be careful when copying them\n",
    "\n",
    "copy a set using “=” operator, we create a reference to the existing set instead of creating a new one\n",
    "\n",
    "use the “copy” or “set” functions to create a new object"
   ]
  },
  {
   "cell_type": "code",
   "execution_count": 16,
   "metadata": {},
   "outputs": [
    {
     "name": "stdout",
     "output_type": "stream",
     "text": [
      "True\n",
      "False\n",
      "False\n",
      "140496962506080\n",
      "140496962506080\n",
      "140497307280992\n"
     ]
    }
   ],
   "source": [
    "A = {1, 2, 3}\n",
    "B = A\n",
    "C = A.copy()\n",
    "D = set(A)\n",
    "\n",
    "print(B is A)\n",
    "\n",
    "print(C is A)\n",
    "\n",
    "print(D is A)\n",
    "\n",
    "print(id(A))\n",
    "print(id(B))\n",
    "print(id(C))"
   ]
  },
  {
   "cell_type": "markdown",
   "metadata": {},
   "source": [
    "Set is an important data structure. A common use case of sets is to remove duplicate elements from a sequence.\n",
    "\n",
    "They can also be used to perform common math operations such as union, intersection and so on."
   ]
  }
 ],
 "metadata": {
  "kernelspec": {
   "display_name": "gui-tkinter",
   "language": "python",
   "name": "gui-tkinter"
  },
  "language_info": {
   "codemirror_mode": {
    "name": "ipython",
    "version": 3
   },
   "file_extension": ".py",
   "mimetype": "text/x-python",
   "name": "python",
   "nbconvert_exporter": "python",
   "pygments_lexer": "ipython3",
   "version": "3.8.5"
  }
 },
 "nbformat": 4,
 "nbformat_minor": 4
}
