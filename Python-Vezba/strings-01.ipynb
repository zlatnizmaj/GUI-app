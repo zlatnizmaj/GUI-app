{
 "cells": [
  {
   "cell_type": "code",
   "execution_count": 1,
   "metadata": {},
   "outputs": [
    {
     "data": {
      "text/plain": [
       "'A string is a Python data type that’s used to represent a piece of text.\\nIt’s written between quotes, either double quotes or single quotes and\\ncan be as short as zero characters, or empty string, or as long as you wish.\\n'"
      ]
     },
     "execution_count": 1,
     "metadata": {},
     "output_type": "execute_result"
    }
   ],
   "source": [
    "# https://towardsdatascience.com/mastering-string-methods-in-python-456174ede911\n",
    "\"\"\"A string is a Python data type that’s used to represent a piece of text.\n",
    "It’s written between quotes, either double quotes or single quotes and\n",
    "can be as short as zero characters, or empty string, or as long as you wish.\n",
    "\"\"\""
   ]
  },
  {
   "cell_type": "code",
   "execution_count": 2,
   "metadata": {
    "collapsed": false,
    "jupyter": {
     "outputs_hidden": false
    },
    "pycharm": {
     "name": "#%%\n"
    }
   },
   "outputs": [
    {
     "name": "stdout",
     "output_type": "stream",
     "text": [
      " \n"
     ]
    }
   ],
   "source": [
    "# Empty string:\n",
    "empty_string = \" \"\n",
    "print(empty_string)"
   ]
  },
  {
   "cell_type": "code",
   "execution_count": 3,
   "metadata": {
    "collapsed": false,
    "jupyter": {
     "outputs_hidden": false
    },
    "pycharm": {
     "name": "#%%\n"
    }
   },
   "outputs": [
    {
     "name": "stdout",
     "output_type": "stream",
     "text": [
      "This article has to be amazing\n"
     ]
    }
   ],
   "source": [
    "# Concatenation\n",
    "first_string = \"This article\"\n",
    "second_string = \" has to be amazing\"\n",
    "print(first_string + second_string)"
   ]
  },
  {
   "cell_type": "code",
   "execution_count": 4,
   "metadata": {
    "collapsed": false,
    "jupyter": {
     "outputs_hidden": false
    },
    "pycharm": {
     "name": "#%%\n"
    }
   },
   "outputs": [
    {
     "name": "stdout",
     "output_type": "stream",
     "text": [
      "***************\n",
      "Text goes here\n",
      "***************\n"
     ]
    }
   ],
   "source": [
    "# Multiplication\n",
    "print('*' * 15)\n",
    "print(\"Text goes here\")\n",
    "print('*' * 15)\n"
   ]
  },
  {
   "cell_type": "code",
   "execution_count": 5,
   "metadata": {},
   "outputs": [
    {
     "name": "stdout",
     "output_type": "stream",
     "text": [
      "The length of the first_string variable is 12\n"
     ]
    }
   ],
   "source": [
    "print(\"The length of the first_string variable is\", len(first_string))"
   ]
  },
  {
   "cell_type": "code",
   "execution_count": 6,
   "metadata": {},
   "outputs": [
    {
     "name": "stdout",
     "output_type": "stream",
     "text": [
      "['clark.kent@gmail.com', 'diana.prince@gmail.com', 'peter.parker@gmail.com', 'barbara.gordon@yahoo.com', 'jean.gray@yahoo.com', 'bruce.wayne@hotmail.com']\n"
     ]
    }
   ],
   "source": [
    "def email_list(domains):\n",
    "    emails = []\n",
    "    for m, users in domains.items():\n",
    "        for user in users:\n",
    "            em = str(user) + '@' + str(m)\n",
    "            emails.append(em)\n",
    "    return (emails)\n",
    "\n",
    "print(email_list({\"gmail.com\": [\"clark.kent\", \"diana.prince\", \"peter.parker\"], \n",
    "                 \"yahoo.com\": [\"barbara.gordon\", \"jean.gray\"],\n",
    "                 \"hotmail.com\": [\"bruce.wayne\"]}))"
   ]
  },
  {
   "cell_type": "code",
   "execution_count": 7,
   "metadata": {},
   "outputs": [
    {
     "name": "stdout",
     "output_type": "stream",
     "text": [
      "I want this part of the \n",
      "text!\n"
     ]
    }
   ],
   "source": [
    "# string indexing\n",
    "string_to_index = \"I want this part of the text!\"\n",
    "print(string_to_index[:24])\n",
    "print(string_to_index[-5:])"
   ]
  },
  {
   "cell_type": "markdown",
   "metadata": {},
   "source": [
    "Remember that Python starts counting indexes from 0 not 1. Just like it does with the range function, it considers the range of values between the first and one less than last number."
   ]
  },
  {
   "cell_type": "markdown",
   "metadata": {},
   "source": [
    "# Modifying strings"
   ]
  },
  {
   "cell_type": "markdown",
   "metadata": {},
   "source": [
    "Slicing won’t be useful for this, as strings are immutable data types, in terms of Python, which means that they can’t be modified. What we can do is create a new string based on the old one:"
   ]
  },
  {
   "cell_type": "code",
   "execution_count": 15,
   "metadata": {},
   "outputs": [
    {
     "name": "stdout",
     "output_type": "stream",
     "text": [
      "This a sampl@ text\n",
      "This a sample text\n"
     ]
    }
   ],
   "source": [
    "test_string = \"This a sampl@ text\"\n",
    "print(test_string)\n",
    "corrected_string = test_string[:12] + 'e ' + test_string[14:]\n",
    "print(corrected_string)"
   ]
  },
  {
   "cell_type": "markdown",
   "metadata": {},
   "source": [
    "How are we supposed to know which character to change if the string is larger?"
   ]
  },
  {
   "cell_type": "code",
   "execution_count": 17,
   "metadata": {},
   "outputs": [
    {
     "name": "stdout",
     "output_type": "stream",
     "text": [
      "The shape of he character (&) predates the word apersand by.. \n",
      "\n",
      "The '&' symbols is located inthe index number:  27\n"
     ]
    }
   ],
   "source": [
    "long_string = \"The shape of he character (&) predates the word apersand by..\"\n",
    "print(long_string, '\\n')\n",
    "position = long_string.index('&')\n",
    "print(\"The '&' symbols is located inthe index number: \", position)"
   ]
  },
  {
   "cell_type": "markdown",
   "metadata": {},
   "source": [
    "The index method in particular, returns the index of the given substring, inside the string.The substring that we pass, can be as long or as short as we want"
   ]
  },
  {
   "cell_type": "code",
   "execution_count": 18,
   "metadata": {},
   "outputs": [
    {
     "ename": "ValueError",
     "evalue": "substring not found",
     "output_type": "error",
     "traceback": [
      "\u001B[0;31m---------------------------------------------------------------------------\u001B[0m",
      "\u001B[0;31mValueError\u001B[0m                                Traceback (most recent call last)",
      "\u001B[0;32m<ipython-input-18-62652a50f117>\u001B[0m in \u001B[0;36m<module>\u001B[0;34m\u001B[0m\n\u001B[1;32m      1\u001B[0m \u001B[0msub_text\u001B[0m \u001B[0;34m=\u001B[0m \u001B[0;34m\"This is a sample text\"\u001B[0m\u001B[0;34m\u001B[0m\u001B[0;34m\u001B[0m\u001B[0m\n\u001B[0;32m----> 2\u001B[0;31m \u001B[0mprint\u001B[0m\u001B[0;34m(\u001B[0m\u001B[0msub_text\u001B[0m\u001B[0;34m.\u001B[0m\u001B[0mindex\u001B[0m\u001B[0;34m(\u001B[0m\u001B[0;34m'@'\u001B[0m\u001B[0;34m)\u001B[0m\u001B[0;34m)\u001B[0m\u001B[0;34m\u001B[0m\u001B[0;34m\u001B[0m\u001B[0m\n\u001B[0m",
      "\u001B[0;31mValueError\u001B[0m: substring not found"
     ]
    }
   ],
   "source": [
    "sub_text = \"This is a sample text\"\n",
    "print(sub_text.index('@'))"
   ]
  },
  {
   "cell_type": "code",
   "execution_count": 19,
   "metadata": {},
   "outputs": [
    {
     "name": "stdout",
     "output_type": "stream",
     "text": [
      "Is the '@' symbols in the string? False\n"
     ]
    }
   ],
   "source": [
    "sub_text = \"This is a sample text\"\n",
    "answer = '@' in sub_text\n",
    "print(\"Is the '@' symbols in the string?\", answer)"
   ]
  },
  {
   "cell_type": "markdown",
   "metadata": {},
   "source": [
    "# Transforming Strings"
   ]
  },
  {
   "cell_type": "code",
   "execution_count": 20,
   "metadata": {},
   "outputs": [],
   "source": [
    "# the lower(), upper(), strip(), count() and join() methods."
   ]
  },
  {
   "cell_type": "markdown",
   "metadata": {},
   "source": [
    "The strip() method is useful when dealing with user input as it gets rid of surrounding spaces in the string. This means it doesn’t just remove spaces, it also removes tabs and new line characters, which are all characters we don’t usually want in user-provided strings.\n",
    "\n",
    "lstrip and rstrip, which eliminate white space characters to the left or to the right of the string respectively, instead of both sides."
   ]
  },
  {
   "cell_type": "code",
   "execution_count": 22,
   "metadata": {},
   "outputs": [
    {
     "name": "stdout",
     "output_type": "stream",
     "text": [
      "This string has unnecesary spaces\n",
      "This string must be stripped to the left\n",
      "This sringmust be stripped to the right\n"
     ]
    }
   ],
   "source": [
    "string_with_spaces = \"       This string has unnecesary spaces    \"\n",
    "string_with_left_spaces = \"    This string must be stripped to the left\"\n",
    "string_with_right_spaces = \"This sringmust be stripped to the right   \"\n",
    "print(string_with_spaces.strip())\n",
    "print(string_with_left_spaces.lstrip())\n",
    "print(string_with_right_spaces.rstrip())"
   ]
  },
  {
   "cell_type": "code",
   "execution_count": 25,
   "metadata": {},
   "outputs": [
    {
     "name": "stdout",
     "output_type": "stream",
     "text": [
      "The character 'a' is 2 times in the string\n",
      "Does the string end with the character 't'? True\n",
      "Does the string start with the character 'T'? True\n"
     ]
    }
   ],
   "source": [
    "# count, endswith, startswith methods\n",
    "test_string = \"This is a sample text\"\n",
    "c = test_string.count('a')\n",
    "end = test_string.endswith('t')\n",
    "start = test_string.startswith('T')\n",
    "\n",
    "print(f\"The character 'a' is {c} times in the string\")\n",
    "print(\"Does the string end with the character 't'?\", end)\n",
    "print(\"Does the string start with the character 'T'?\", start)"
   ]
  },
  {
   "cell_type": "code",
   "execution_count": 27,
   "metadata": {},
   "outputs": [
    {
     "name": "stdout",
     "output_type": "stream",
     "text": [
      "This list must be joined!\n"
     ]
    }
   ],
   "source": [
    "# Another form of concatenation is with the application of the join method.\n",
    "list_to_concat = [\"This\", \"list\", \"must\", \"be\", \"joined!\"]\n",
    "print(' '.join(list_to_concat))\n",
    "# The method receives a list of strings and \n",
    "# returns one string with each of the strings joined by the initial string"
   ]
  },
  {
   "cell_type": "markdown",
   "metadata": {},
   "source": [
    "an important application of strings is the split method, which returns a list of all the words in the initial string and it automatically splits by any white space. It can optionally take a parameter and split the strings by another character, like a comma or a dot"
   ]
  },
  {
   "cell_type": "code",
   "execution_count": 28,
   "metadata": {},
   "outputs": [
    {
     "name": "stdout",
     "output_type": "stream",
     "text": [
      "['This', 'sentence', 'should', 'be', 'splitted']\n"
     ]
    }
   ],
   "source": [
    "print(\"This sentence should be splitted\".split())"
   ]
  },
  {
   "cell_type": "markdown",
   "metadata": {},
   "source": [
    "# Formatting strings"
   ]
  },
  {
   "cell_type": "code",
   "execution_count": 30,
   "metadata": {},
   "outputs": [
    {
     "name": "stdout",
     "output_type": "stream",
     "text": [
      "His name is Nam Ng and he is a Luom rac pro!\n",
      "His name is Nam Ng and he is a Luom rac pro!\n"
     ]
    }
   ],
   "source": [
    "name = \"Nam Ng\"\n",
    "occupation = \"Luom rac\"\n",
    "print(f\"His name is {name} and he is a {occupation} pro!\")\n",
    "print(\"His name is {} and he is a {} pro!\".format(name, occupation))"
   ]
  },
  {
   "cell_type": "code",
   "execution_count": 33,
   "metadata": {},
   "outputs": [
    {
     "name": "stdout",
     "output_type": "stream",
     "text": [
      "Base price is $9.00, but total sale price is $19.12\n"
     ]
    }
   ],
   "source": [
    "# format the numerical output of a float variable.\n",
    "price = 9\n",
    "tax = price * 0.125\n",
    "total = price * (1 + tax)\n",
    "print(f\"Base price is ${price:.2f}, but total sale price is ${total:.2f}\")\n",
    "# we write “.2f”. This means we’re going to format a float number and \n",
    "# that there should be two digits after the decimal dot."
   ]
  },
  {
   "cell_type": "markdown",
   "metadata": {},
   "source": [
    "specify text alignment using the greater than operator: >. For example, the expression {:>3.2f} would align the text three spaces to the right, as well as specify a float number with two decimal places."
   ]
  },
  {
   "cell_type": "code",
   "execution_count": 34,
   "metadata": {},
   "outputs": [
    {
     "name": "stdout",
     "output_type": "stream",
     "text": [
      "Base price is $9.00, but total sale price is $19.12\n"
     ]
    }
   ],
   "source": [
    "print(f\"Base price is ${price:>3.2f}, but total sale price is ${total:.2f}\")"
   ]
  }
 ],
 "metadata": {
  "kernelspec": {
   "display_name": "gui-tkinter",
   "language": "python",
   "name": "gui-tkinter"
  },
  "language_info": {
   "codemirror_mode": {
    "name": "ipython",
    "version": 3
   },
   "file_extension": ".py",
   "mimetype": "text/x-python",
   "name": "python",
   "nbconvert_exporter": "python",
   "pygments_lexer": "ipython3",
   "version": "3.8.5"
  }
 },
 "nbformat": 4,
 "nbformat_minor": 4
}